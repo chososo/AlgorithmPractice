{
  "nbformat": 4,
  "nbformat_minor": 0,
  "metadata": {
    "colab": {
      "provenance": [],
      "toc_visible": true
    },
    "kernelspec": {
      "name": "python3",
      "display_name": "Python 3"
    },
    "language_info": {
      "name": "python"
    }
  },
  "cells": [
    {
      "cell_type": "code",
      "execution_count": null,
      "metadata": {
        "id": "fjN-eIEggurL"
      },
      "outputs": [],
      "source": [
        "def fpush(x, myStack):\n",
        "    myStack.append(x)\n",
        "    return 0\n",
        "\n",
        "def fpop(myStack):\n",
        "    if len(myStack) == 0:\n",
        "        return -1\n",
        "    else:\n",
        "        lastN = myStack[-1]\n",
        "        del myStack[-1]\n",
        "        return lastN\n",
        "\n",
        "def fsize(myStack):\n",
        "    return len(myStack)\n",
        "\n",
        "def fempty(myStack):\n",
        "    if len(myStack) == 0:\n",
        "        return 1\n",
        "    else:\n",
        "        return 0\n",
        "\n",
        "def ftop(myStack):\n",
        "    if len(myStack) == 0:\n",
        "        return -1\n",
        "    else:\n",
        "        return myStack[-1]\n",
        "\n",
        "N = int(input())\n",
        "myStack = []\n",
        "results = []\n",
        "\n",
        "for i in range(N):\n",
        "    tempArray = input().split(' ')\n",
        "    if tempArray[0] == 'push':\n",
        "        fpush(tempArray[1], myStack)\n",
        "    elif tempArray[0] == 'pop':\n",
        "        results.append(fpop(myStack))\n",
        "    elif tempArray[0] == 'size':\n",
        "        results.append(fsize(myStack))\n",
        "    elif tempArray[0] == 'empty':\n",
        "        results.append(fempty(myStack))\n",
        "    elif tempArray[0] == 'top':\n",
        "        results.append(ftop(myStack))\n",
        "\n",
        "for result in results:\n",
        "    print(result)"
      ]
    }
  ]
}
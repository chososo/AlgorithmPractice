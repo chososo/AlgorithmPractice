{
  "nbformat": 4,
  "nbformat_minor": 0,
  "metadata": {
    "colab": {
      "provenance": []
    },
    "kernelspec": {
      "name": "python3",
      "display_name": "Python 3"
    },
    "language_info": {
      "name": "python"
    }
  },
  "cells": [
    {
      "cell_type": "code",
      "execution_count": 31,
      "metadata": {
        "colab": {
          "base_uri": "https://localhost:8080/"
        },
        "id": "4Uom9DH_8FjD",
        "outputId": "843c1613-d3fc-4167-f518-4c3762cd64e8"
      },
      "outputs": [
        {
          "output_type": "stream",
          "name": "stdout",
          "text": [
            "5\n",
            "2 4 -10 4 -9\n",
            "['2', '4', '-10', '4', '-9']\n",
            "<class 'set'> {'-10', '2', '-9', '4'}\n",
            "set TO List & sort <class 'list'>\n",
            "sort ['-10', '-9', '2', '4']\n",
            "{'-10': 0, '-9': 1, '2': 2, '4': 3}\n",
            "['2', '3', '0', '3', '1']\n",
            "2 3 0 3 1\n"
          ]
        }
      ],
      "source": [
        "numCnt = input()\n",
        "# targetList = map(int, input().split())\n",
        "targetList = input().split()\n",
        "\n",
        "print(targetList)\n",
        "setList= set(targetList)\n",
        "print(type(setList),setList)\n",
        "setList = list(map(lambda x : x, setList))\n",
        "print(\"set TO List & sort\", type(setList))\n",
        "setList.sort()\n",
        "print(\"sort\",setList)\n",
        "dicList = dict(zip(setList,range(len(setList))))\n",
        "print(dicList)\n",
        "targetRes = list( map(lambda x : str(dicList[x]),targetList) )\n",
        "print(targetRes)\n",
        "print(\" \".join(targetRes))"
      ]
    },
    {
      "cell_type": "code",
      "source": [],
      "metadata": {
        "id": "r9vbWDFiFvxb"
      },
      "execution_count": null,
      "outputs": []
    },
    {
      "cell_type": "code",
      "source": [
        "numCnt = input()\n",
        "# targetList = map(int, input().split())\n",
        "targetList = input().split()\n",
        "setList= set(targetList)\n",
        "setList = list(map(lambda x : x, setList))\n",
        "setList.sort()\n",
        "dicList = dict(zip(setList,range(len(setList))))\n",
        "targetRes = list( map(lambda x : str(dicList[x]),targetList) )\n",
        "print(\" \".join(targetRes))"
      ],
      "metadata": {
        "id": "8D6S_62IFmnZ"
      },
      "execution_count": null,
      "outputs": []
    },
    {
      "cell_type": "code",
      "source": [
        "testD={-10: 0, -9: 1, 2: 2, 4: 3}\n",
        "testD[-10]"
      ],
      "metadata": {
        "colab": {
          "base_uri": "https://localhost:8080/"
        },
        "id": "UvsN2uqlEJss",
        "outputId": "9af17bab-267a-444a-acba-45ece01b0746"
      },
      "execution_count": 21,
      "outputs": [
        {
          "output_type": "execute_result",
          "data": {
            "text/plain": [
              "0"
            ]
          },
          "metadata": {},
          "execution_count": 21
        }
      ]
    },
    {
      "cell_type": "code",
      "source": [
        "numCnt = input()\n",
        "# targetList = map(int, input().split())\n",
        "targetList = input().split()\n",
        "setList= set(targetList)\n",
        "setList = list(map(lambda x : x, setList))\n",
        "setList.sort()\n",
        "dicList = dict(zip(setList,range(len(setList))))\n",
        "targetRes = list( map(lambda x : str(dicList[x]),targetList) )\n",
        "print(\" \".join(targetRes))\n"
      ],
      "metadata": {
        "colab": {
          "base_uri": "https://localhost:8080/"
        },
        "id": "G2i5fIEEFxDI",
        "outputId": "6a800772-93c4-4156-8331-8066aa29e838"
      },
      "execution_count": 32,
      "outputs": [
        {
          "output_type": "stream",
          "name": "stdout",
          "text": [
            "6\n",
            "1000 999 1000 999 1000 999\n",
            "0 1 0 1 0 1\n"
          ]
        }
      ]
    },
    {
      "cell_type": "code",
      "source": [
        "numCnt = input()\n",
        "originTarget = input()\n",
        "targetList = map(int, originTarget.split())\n",
        "\n",
        "targetListStr = originTarget.split()\n",
        "print(targetListStr)\n",
        "print(targetList)\n",
        "setList= set(targetList)\n",
        "print(type(setList),setList)\n",
        "setList = list(map(lambda x : x, setList))\n",
        "print(\"set TO List & sort\", type(setList))\n",
        "setList.sort()\n",
        "print(\"sort\",setList, len(setList))\n",
        "dicList = {}\n",
        "for i in range(len(setList)):\n",
        "  dicList[str(setList[i])] = i\n",
        "print(dicList)\n",
        "targetRes = list( map(lambda x : str(dicList[x]),targetListStr) )\n",
        "print(targetRes)\n",
        "print(\" \".join(targetRes))"
      ],
      "metadata": {
        "colab": {
          "base_uri": "https://localhost:8080/"
        },
        "id": "DqqBUm9VF3uf",
        "outputId": "1e4b9a35-f9e8-4d07-8cb6-fe5ccb6c0071"
      },
      "execution_count": 36,
      "outputs": [
        {
          "output_type": "stream",
          "name": "stdout",
          "text": [
            "6\n",
            "1000 999 1000 999 1000 999\n",
            "['1000', '999', '1000', '999', '1000', '999']\n",
            "<map object at 0x7d878de63d00>\n",
            "<class 'set'> {1000, 999}\n",
            "set TO List & sort <class 'list'>\n",
            "sort [999, 1000] 2\n",
            "{'999': 0, '1000': 1}\n",
            "['1', '0', '1', '0', '1', '0']\n",
            "1 0 1 0 1 0\n"
          ]
        }
      ]
    },
    {
      "cell_type": "markdown",
      "source": [],
      "metadata": {
        "id": "1BEK9xoJHomP"
      }
    },
    {
      "cell_type": "markdown",
      "source": [
        "**최종 코드**"
      ],
      "metadata": {
        "id": "TY4nH_mnHgvc"
      }
    },
    {
      "cell_type": "code",
      "source": [
        "numCnt = input()\n",
        "originTarget = input()\n",
        "targetList = map(int, originTarget.split())\n",
        "targetListStr = originTarget.split()\n",
        "setList= set(targetList)\n",
        "setList = list(map(lambda x : x, setList))\n",
        "setList.sort()\n",
        "dicList = {}\n",
        "for i in range(len(setList)):\n",
        "  dicList[str(setList[i])] = i\n",
        "targetRes = list( map(lambda x : str(dicList[x]),targetListStr) )\n",
        "print(\" \".join(targetRes))"
      ],
      "metadata": {
        "colab": {
          "base_uri": "https://localhost:8080/",
          "height": 419
        },
        "id": "MYtK91QZHMjl",
        "outputId": "637abd26-9e4d-47f1-c72f-cfda8f18e003"
      },
      "execution_count": 37,
      "outputs": [
        {
          "output_type": "error",
          "ename": "KeyboardInterrupt",
          "evalue": "Interrupted by user",
          "traceback": [
            "\u001b[0;31m---------------------------------------------------------------------------\u001b[0m",
            "\u001b[0;31mKeyboardInterrupt\u001b[0m                         Traceback (most recent call last)",
            "\u001b[0;32m<ipython-input-37-1d98f7e74d90>\u001b[0m in \u001b[0;36m<cell line: 1>\u001b[0;34m()\u001b[0m\n\u001b[0;32m----> 1\u001b[0;31m \u001b[0mnumCnt\u001b[0m \u001b[0;34m=\u001b[0m \u001b[0minput\u001b[0m\u001b[0;34m(\u001b[0m\u001b[0;34m)\u001b[0m\u001b[0;34m\u001b[0m\u001b[0;34m\u001b[0m\u001b[0m\n\u001b[0m\u001b[1;32m      2\u001b[0m \u001b[0moriginTarget\u001b[0m \u001b[0;34m=\u001b[0m \u001b[0minput\u001b[0m\u001b[0;34m(\u001b[0m\u001b[0;34m)\u001b[0m\u001b[0;34m\u001b[0m\u001b[0;34m\u001b[0m\u001b[0m\n\u001b[1;32m      3\u001b[0m \u001b[0mtargetList\u001b[0m \u001b[0;34m=\u001b[0m \u001b[0mmap\u001b[0m\u001b[0;34m(\u001b[0m\u001b[0mint\u001b[0m\u001b[0;34m,\u001b[0m \u001b[0moriginTarget\u001b[0m\u001b[0;34m.\u001b[0m\u001b[0msplit\u001b[0m\u001b[0;34m(\u001b[0m\u001b[0;34m)\u001b[0m\u001b[0;34m)\u001b[0m\u001b[0;34m\u001b[0m\u001b[0;34m\u001b[0m\u001b[0m\n\u001b[1;32m      4\u001b[0m \u001b[0mtargetListStr\u001b[0m \u001b[0;34m=\u001b[0m \u001b[0moriginTarget\u001b[0m\u001b[0;34m.\u001b[0m\u001b[0msplit\u001b[0m\u001b[0;34m(\u001b[0m\u001b[0;34m)\u001b[0m\u001b[0;34m\u001b[0m\u001b[0;34m\u001b[0m\u001b[0m\n\u001b[1;32m      5\u001b[0m \u001b[0msetList\u001b[0m\u001b[0;34m=\u001b[0m \u001b[0mset\u001b[0m\u001b[0;34m(\u001b[0m\u001b[0mtargetList\u001b[0m\u001b[0;34m)\u001b[0m\u001b[0;34m\u001b[0m\u001b[0;34m\u001b[0m\u001b[0m\n",
            "\u001b[0;32m/usr/local/lib/python3.10/dist-packages/ipykernel/kernelbase.py\u001b[0m in \u001b[0;36mraw_input\u001b[0;34m(self, prompt)\u001b[0m\n\u001b[1;32m    849\u001b[0m                 \u001b[0;34m\"raw_input was called, but this frontend does not support input requests.\"\u001b[0m\u001b[0;34m\u001b[0m\u001b[0;34m\u001b[0m\u001b[0m\n\u001b[1;32m    850\u001b[0m             )\n\u001b[0;32m--> 851\u001b[0;31m         return self._input_request(str(prompt),\n\u001b[0m\u001b[1;32m    852\u001b[0m             \u001b[0mself\u001b[0m\u001b[0;34m.\u001b[0m\u001b[0m_parent_ident\u001b[0m\u001b[0;34m,\u001b[0m\u001b[0;34m\u001b[0m\u001b[0;34m\u001b[0m\u001b[0m\n\u001b[1;32m    853\u001b[0m             \u001b[0mself\u001b[0m\u001b[0;34m.\u001b[0m\u001b[0m_parent_header\u001b[0m\u001b[0;34m,\u001b[0m\u001b[0;34m\u001b[0m\u001b[0;34m\u001b[0m\u001b[0m\n",
            "\u001b[0;32m/usr/local/lib/python3.10/dist-packages/ipykernel/kernelbase.py\u001b[0m in \u001b[0;36m_input_request\u001b[0;34m(self, prompt, ident, parent, password)\u001b[0m\n\u001b[1;32m    893\u001b[0m             \u001b[0;32mexcept\u001b[0m \u001b[0mKeyboardInterrupt\u001b[0m\u001b[0;34m:\u001b[0m\u001b[0;34m\u001b[0m\u001b[0;34m\u001b[0m\u001b[0m\n\u001b[1;32m    894\u001b[0m                 \u001b[0;31m# re-raise KeyboardInterrupt, to truncate traceback\u001b[0m\u001b[0;34m\u001b[0m\u001b[0;34m\u001b[0m\u001b[0m\n\u001b[0;32m--> 895\u001b[0;31m                 \u001b[0;32mraise\u001b[0m \u001b[0mKeyboardInterrupt\u001b[0m\u001b[0;34m(\u001b[0m\u001b[0;34m\"Interrupted by user\"\u001b[0m\u001b[0;34m)\u001b[0m \u001b[0;32mfrom\u001b[0m \u001b[0;32mNone\u001b[0m\u001b[0;34m\u001b[0m\u001b[0;34m\u001b[0m\u001b[0m\n\u001b[0m\u001b[1;32m    896\u001b[0m             \u001b[0;32mexcept\u001b[0m \u001b[0mException\u001b[0m \u001b[0;32mas\u001b[0m \u001b[0me\u001b[0m\u001b[0;34m:\u001b[0m\u001b[0;34m\u001b[0m\u001b[0;34m\u001b[0m\u001b[0m\n\u001b[1;32m    897\u001b[0m                 \u001b[0mself\u001b[0m\u001b[0;34m.\u001b[0m\u001b[0mlog\u001b[0m\u001b[0;34m.\u001b[0m\u001b[0mwarning\u001b[0m\u001b[0;34m(\u001b[0m\u001b[0;34m\"Invalid Message:\"\u001b[0m\u001b[0;34m,\u001b[0m \u001b[0mexc_info\u001b[0m\u001b[0;34m=\u001b[0m\u001b[0;32mTrue\u001b[0m\u001b[0;34m)\u001b[0m\u001b[0;34m\u001b[0m\u001b[0;34m\u001b[0m\u001b[0m\n",
            "\u001b[0;31mKeyboardInterrupt\u001b[0m: Interrupted by user"
          ]
        }
      ]
    },
    {
      "cell_type": "code",
      "source": [],
      "metadata": {
        "id": "CBO0KvUaHb61"
      },
      "execution_count": null,
      "outputs": []
    }
  ]
}
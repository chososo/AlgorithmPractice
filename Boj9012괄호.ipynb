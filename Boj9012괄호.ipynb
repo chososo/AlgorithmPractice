{
  "nbformat": 4,
  "nbformat_minor": 0,
  "metadata": {
    "colab": {
      "provenance": []
    },
    "kernelspec": {
      "name": "python3",
      "display_name": "Python 3"
    },
    "language_info": {
      "name": "python"
    }
  },
  "cells": [
    {
      "cell_type": "code",
      "execution_count": 6,
      "metadata": {
        "colab": {
          "base_uri": "https://localhost:8080/"
        },
        "id": "wQDcn-P2NJ4j",
        "outputId": "8b72cd28-bd04-4123-d2bd-e59a33a52924"
      },
      "outputs": [
        {
          "output_type": "stream",
          "name": "stdout",
          "text": [
            "(()())((()))\n",
            "YES\n"
          ]
        }
      ],
      "source": [
        "\n"
      ]
    },
    {
      "cell_type": "code",
      "source": [
        "for _ in range(int(input())):\n",
        "  isRight = True\n",
        "  isVPS = 0\n",
        "  target = input()\n",
        "  for chars in target:\n",
        "    if chars ==\"(\" :\n",
        "      isVPS +=1\n",
        "    elif chars ==\")\" and isVPS > 0 :\n",
        "      isVPS -=1\n",
        "    elif chars ==\")\" and isVPS <= 0 :\n",
        "      isRight = False\n",
        "  if isVPS ==0 and isRight ==True :\n",
        "    print(\"YES\")\n",
        "  else : print(\"NO\")"
      ],
      "metadata": {
        "colab": {
          "base_uri": "https://localhost:8080/"
        },
        "id": "7BCblUoyPxqY",
        "outputId": "1b7d90a1-31a7-406d-ea04-7c8320d1b5d6"
      },
      "execution_count": null,
      "outputs": [
        {
          "output_type": "stream",
          "name": "stdout",
          "text": [
            "6\n",
            "(()())((()))\n",
            "YES\n"
          ]
        }
      ]
    }
  ]
}
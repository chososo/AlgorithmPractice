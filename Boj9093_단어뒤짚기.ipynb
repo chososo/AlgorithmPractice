{
  "nbformat": 4,
  "nbformat_minor": 0,
  "metadata": {
    "colab": {
      "provenance": []
    },
    "kernelspec": {
      "name": "python3",
      "display_name": "Python 3"
    },
    "language_info": {
      "name": "python"
    }
  },
  "cells": [
    {
      "cell_type": "code",
      "execution_count": 2,
      "metadata": {
        "colab": {
          "base_uri": "https://localhost:8080/"
        },
        "id": "xXgZuP57Jm7D",
        "outputId": "070d6742-372e-4847-94db-7ffd192d69d1"
      },
      "outputs": [
        {
          "output_type": "stream",
          "name": "stdout",
          "text": [
            "I am happy today\n",
            "target =  ['I', 'am', 'happy', 'today']\n"
          ]
        }
      ],
      "source": [
        "for _ in range(int(input())):\n",
        "    target = input().split()\n",
        "    res = []\n",
        "    for words in target :\n",
        "        wordlist = []\n",
        "        wordlist.extend(words)\n",
        "        for i in range(len(wordlist)) :\n",
        "            res.append(wordlist.pop())\n",
        "        res.append(\" \")\n",
        "    print(''.join(res))\n"
      ]
    },
    {
      "cell_type": "code",
      "source": [],
      "metadata": {
        "colab": {
          "base_uri": "https://localhost:8080/"
        },
        "id": "TcjqALl9J3Ci",
        "outputId": "c76d9340-ee78-44af-ba0d-783037206890"
      },
      "execution_count": 4,
      "outputs": [
        {
          "output_type": "stream",
          "name": "stdout",
          "text": [
            "I ma yppah yadot \n"
          ]
        }
      ]
    }
  ]
}
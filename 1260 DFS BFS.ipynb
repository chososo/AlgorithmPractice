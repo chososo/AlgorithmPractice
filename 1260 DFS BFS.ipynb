{
 "cells": [
  {
   "cell_type": "markdown",
   "id": "352767d5",
   "metadata": {},
   "source": [
    "### 최종 코드 ###\n"
   ]
  },
  {
   "cell_type": "code",
   "execution_count": null,
   "id": "0a424f88",
   "metadata": {},
   "outputs": [],
   "source": [
    "# 처음 그래프 초기화 \n",
    "n, m , v = map(int, input().split())\n",
    "maps = [ [] for _ in range(n+1)]\n",
    "for _ in range(m) :\n",
    "    a,b = map(int, input().split())\n",
    "    maps[a].append(b)\n",
    "    maps[b].append(a)\n",
    "visitedDFS =  [0 for _ in range(n+1)]\n",
    "visitedBFS =  [0 for _ in range(n+1)]\n",
    "\n",
    "def dfs(maps,start,visited):\n",
    "    visited[start] = 1\n",
    "    print(start,end = \" \")\n",
    "    maps[start].sort()\n",
    "    for _ in maps[start]:\n",
    " \n",
    "        if visited[_] == 0 :\n",
    "            \n",
    "            dfs(maps,_,visited)\n",
    "\n",
    "from collections import deque \n",
    "\n",
    "def bfs(maps,start, visited):\n",
    "    bfsList= deque([start])\n",
    "    while bfsList :\n",
    "        if visited[bfsList[0]] == 0 :\n",
    "            visited[bfsList[0]]=1\n",
    "            bfsList.extend(maps[bfsList[0]])\n",
    "            print(bfsList.popleft(), end=\" \")\n",
    "\n",
    "        else :\n",
    "            bfsList.popleft()\n",
    "\n",
    "dfs(maps,v,visitedDFS)\n",
    "print()\n",
    "bfs(maps,v,visitedBFS)"
   ]
  },
  {
   "cell_type": "code",
   "execution_count": 7,
   "id": "726bd4fc",
   "metadata": {},
   "outputs": [
    {
     "data": {
      "text/plain": [
       "[1, [2, 3, 4, 5], 3, 4, 5, 6, 7, 8, 9, 10]"
      ]
     },
     "execution_count": 7,
     "metadata": {},
     "output_type": "execute_result"
    }
   ],
   "source": [
    "a = [ _ +1 for _ in range(10)]\n",
    "a[1] = [2,3,4]\n",
    "a[1].append(5)\n",
    "a"
   ]
  },
  {
   "cell_type": "code",
   "execution_count": 16,
   "id": "65c9bb44",
   "metadata": {},
   "outputs": [
    {
     "data": {
      "text/plain": [
       "[3, 4, 5, 6, [3, 4, 5]]"
      ]
     },
     "execution_count": 16,
     "metadata": {},
     "output_type": "execute_result"
    }
   ],
   "source": [
    "b= [3,4,5,6] \n",
    "b.append([3,4,5])\n",
    "b"
   ]
  },
  {
   "cell_type": "code",
   "execution_count": 81,
   "id": "7eb87f54",
   "metadata": {
    "scrolled": true
   },
   "outputs": [
    {
     "name": "stdout",
     "output_type": "stream",
     "text": [
      "5 5 3\n",
      "5 4\n",
      "5 2\n",
      "1 2\n",
      "3 4\n",
      "3 1\n",
      "[[], [2, 3], [5, 1], [4, 1], [5, 3], [4, 2]]\n"
     ]
    }
   ],
   "source": [
    "# 처음 그래프 초기화 \n",
    "n, m , v = map(int, input().split())\n",
    "maps = [ [] for _ in range(n+1)]\n",
    "for _ in range(m) :\n",
    "    a,b = map(int, input().split())\n",
    "    maps[a].append(b)\n",
    "    maps[b].append(a)\n",
    "visitedDFS =  [0 for _ in range(n+1)]\n",
    "visitedBFS =  [0 for _ in range(n+1)]\n",
    "print(maps)\n"
   ]
  },
  {
   "cell_type": "code",
   "execution_count": 60,
   "id": "05b7a53c",
   "metadata": {},
   "outputs": [
    {
     "name": "stdout",
     "output_type": "stream",
     "text": [
      "[[], [2, 3], [4, 1], [4, 2], [5, 1], [5, 3]]\n"
     ]
    }
   ],
   "source": []
  },
  {
   "cell_type": "code",
   "execution_count": 95,
   "id": "97b82ad8",
   "metadata": {},
   "outputs": [],
   "source": [
    "visitedDFS =  [0 for _ in range(n+1)]"
   ]
  },
  {
   "cell_type": "code",
   "execution_count": 96,
   "id": "5dda72be",
   "metadata": {},
   "outputs": [],
   "source": [
    "def dfs(maps,start,visited):\n",
    "    visited[start] = 1\n",
    "    print(start,end = \" \")\n",
    "    maps[start].sort()\n",
    "    print(maps)\n",
    "    for _ in maps[start]:\n",
    " \n",
    "        if visited[_] == 0 :\n",
    "            \n",
    "            dfs(maps,_,visited)\n",
    "            "
   ]
  },
  {
   "cell_type": "code",
   "execution_count": 97,
   "id": "3255ecd8",
   "metadata": {},
   "outputs": [
    {
     "name": "stdout",
     "output_type": "stream",
     "text": [
      "3 [[], [2, 3], [1, 5], [1, 4], [3, 5], [2, 4]]\n",
      "1 [[], [2, 3], [1, 5], [1, 4], [3, 5], [2, 4]]\n",
      "2 [[], [2, 3], [1, 5], [1, 4], [3, 5], [2, 4]]\n",
      "5 [[], [2, 3], [1, 5], [1, 4], [3, 5], [2, 4]]\n",
      "4 [[], [2, 3], [1, 5], [1, 4], [3, 5], [2, 4]]\n"
     ]
    }
   ],
   "source": [
    "dfs(maps,v,visitedDFS)"
   ]
  },
  {
   "cell_type": "code",
   "execution_count": 86,
   "id": "864a1665",
   "metadata": {},
   "outputs": [],
   "source": [
    "from collections import deque \n",
    "\n",
    "def bfs(maps,start, visited):\n",
    "    bfsList= deque([start])\n",
    "    while bfsList :\n",
    "        if visited[bfsList[0]] == 0 :\n",
    "            visited[bfsList[0]]=1\n",
    "            maps[0].sort()\n",
    "            bfsList.extend(maps[bfsList[0]])\n",
    "            print(bfsList.popleft(), end=\" \")\n",
    "\n",
    "        else :\n",
    "            bfsList.popleft()\n",
    "    \n",
    "    \n",
    "    "
   ]
  },
  {
   "cell_type": "code",
   "execution_count": 36,
   "id": "0af77c92",
   "metadata": {},
   "outputs": [
    {
     "name": "stdout",
     "output_type": "stream",
     "text": [
      "deque([1, 2, 3, 4])\n",
      "1\n"
     ]
    }
   ],
   "source": [
    "from collections import deque \n",
    "\n",
    "test = deque([1])\n",
    "test.extend([2,3,4])\n",
    "print(test)\n",
    "print(test[0])"
   ]
  },
  {
   "cell_type": "code",
   "execution_count": 90,
   "id": "14ab29ff",
   "metadata": {},
   "outputs": [],
   "source": [
    "visitedBFS =  [0 for _ in range(n+1)]\n"
   ]
  },
  {
   "cell_type": "code",
   "execution_count": 91,
   "id": "c5edd638",
   "metadata": {
    "scrolled": true
   },
   "outputs": [
    {
     "name": "stdout",
     "output_type": "stream",
     "text": [
      "3 1 4 2 5 "
     ]
    }
   ],
   "source": [
    "bfs(maps,v,visitedBFS)"
   ]
  },
  {
   "cell_type": "code",
   "execution_count": 89,
   "id": "8bc840cb",
   "metadata": {},
   "outputs": [
    {
     "name": "stdout",
     "output_type": "stream",
     "text": [
      "\n"
     ]
    },
    {
     "ename": "ValueError",
     "evalue": "not enough values to unpack (expected 3, got 0)",
     "output_type": "error",
     "traceback": [
      "\u001b[1;31m---------------------------------------------------------------------------\u001b[0m",
      "\u001b[1;31mValueError\u001b[0m                                Traceback (most recent call last)",
      "Cell \u001b[1;32mIn[89], line 2\u001b[0m\n\u001b[0;32m      1\u001b[0m \u001b[38;5;66;03m# 처음 그래프 초기화 \u001b[39;00m\n\u001b[1;32m----> 2\u001b[0m n, m , v \u001b[38;5;241m=\u001b[39m \u001b[38;5;28mmap\u001b[39m(\u001b[38;5;28mint\u001b[39m, \u001b[38;5;28minput\u001b[39m()\u001b[38;5;241m.\u001b[39msplit())\n\u001b[0;32m      3\u001b[0m maps \u001b[38;5;241m=\u001b[39m [ [] \u001b[38;5;28;01mfor\u001b[39;00m _ \u001b[38;5;129;01min\u001b[39;00m \u001b[38;5;28mrange\u001b[39m(n\u001b[38;5;241m+\u001b[39m\u001b[38;5;241m1\u001b[39m)]\n\u001b[0;32m      4\u001b[0m \u001b[38;5;28;01mfor\u001b[39;00m _ \u001b[38;5;129;01min\u001b[39;00m \u001b[38;5;28mrange\u001b[39m(m) :\n",
      "\u001b[1;31mValueError\u001b[0m: not enough values to unpack (expected 3, got 0)"
     ]
    }
   ],
   "source": [
    "# 처음 그래프 초기화 \n",
    "n, m , v = map(int, input().split())\n",
    "maps = [ [] for _ in range(n+1)]\n",
    "for _ in range(m) :\n",
    "    a,b = map(int, input().split())\n",
    "    maps[a].append(b)\n",
    "    maps[b].append(a)\n",
    "visitedDFS =  [0 for _ in range(n+1)]\n",
    "visitedBFS =  [0 for _ in range(n+1)]\n",
    "\n",
    "\n",
    "\n",
    "\n",
    "def dfs(maps,start,visited):\n",
    "    visited[start] = 1\n",
    "    print(start,end = \" \")\n",
    "\n",
    "    for _ in maps[start]:\n",
    "       \n",
    "        if visited[_] == 0 :\n",
    "            dfs(maps,_,visited)\n",
    "\n",
    "from collections import deque \n",
    "\n",
    "def bfs(maps,start, visited):\n",
    "    bfsList= deque([start])\n",
    "    while bfsList :\n",
    "        if visited[bfsList[0]] == 0 :\n",
    "            visited[bfsList[0]]=1\n",
    "            bfsList.extend(maps[bfsList[0]])\n",
    "            print(bfsList.popleft(), end=\" \")\n",
    "\n",
    "        else :\n",
    "            bfsList.popleft()\n",
    "\n",
    "dfs(maps,v,visitedDFS)\n",
    "bfs(maps,v,visitedBFS)"
   ]
  },
  {
   "cell_type": "code",
   "execution_count": null,
   "id": "b65626d2",
   "metadata": {},
   "outputs": [],
   "source": [
    "# sort 해야해"
   ]
  },
  {
   "cell_type": "code",
   "execution_count": null,
   "id": "0837786c",
   "metadata": {},
   "outputs": [],
   "source": []
  }
 ],
 "metadata": {
  "kernelspec": {
   "display_name": "Python 3 (ipykernel)",
   "language": "python",
   "name": "python3"
  },
  "language_info": {
   "codemirror_mode": {
    "name": "ipython",
    "version": 3
   },
   "file_extension": ".py",
   "mimetype": "text/x-python",
   "name": "python",
   "nbconvert_exporter": "python",
   "pygments_lexer": "ipython3",
   "version": "3.11.3"
  }
 },
 "nbformat": 4,
 "nbformat_minor": 5
}
